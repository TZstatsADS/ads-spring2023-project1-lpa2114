{
 "cells": [
  {
   "cell_type": "markdown",
   "id": "b833d3f3",
   "metadata": {},
   "source": [
    "# Placeholder\n",
    "\n",
    "In this data analysis project, we take a look at an extensive collection of philisophical text data which span 13 schools of thought. Specifically, we have Plato, Aristotle, Nietzsche, Rationalism, Empiricism, German Idealism, Communism, Capitalism, Phenomenology, Continental Philosophy, Analytic Philosophy,  Feminism, and Stoicism."
   ]
  },
  {
   "cell_type": "code",
   "execution_count": 7,
   "id": "fb2ac966",
   "metadata": {},
   "outputs": [],
   "source": [
    "import sys\n",
    "import numpy as np\n",
    "import pandas as pd\n",
    "import matplotlib.pyplot as plt\n",
    "import seaborn as sns"
   ]
  },
  {
   "cell_type": "code",
   "execution_count": 2,
   "id": "6a211195",
   "metadata": {},
   "outputs": [
    {
     "name": "stdout",
     "output_type": "stream",
     "text": [
      "3.10.4 (main, Mar 31 2022, 03:38:35) [Clang 12.0.0 ]\n"
     ]
    }
   ],
   "source": [
    "print(sys.version)"
   ]
  },
  {
   "cell_type": "code",
   "execution_count": 5,
   "id": "19abc618",
   "metadata": {},
   "outputs": [],
   "source": [
    "phi_data = pd.read_csv('philosophy_data.csv') #download csv as a DataFrame"
   ]
  },
  {
   "cell_type": "code",
   "execution_count": 6,
   "id": "f75f45d1",
   "metadata": {
    "scrolled": true
   },
   "outputs": [
    {
     "data": {
      "text/html": [
       "<div>\n",
       "<style scoped>\n",
       "    .dataframe tbody tr th:only-of-type {\n",
       "        vertical-align: middle;\n",
       "    }\n",
       "\n",
       "    .dataframe tbody tr th {\n",
       "        vertical-align: top;\n",
       "    }\n",
       "\n",
       "    .dataframe thead th {\n",
       "        text-align: right;\n",
       "    }\n",
       "</style>\n",
       "<table border=\"1\" class=\"dataframe\">\n",
       "  <thead>\n",
       "    <tr style=\"text-align: right;\">\n",
       "      <th></th>\n",
       "      <th>title</th>\n",
       "      <th>author</th>\n",
       "      <th>school</th>\n",
       "      <th>sentence_spacy</th>\n",
       "      <th>sentence_str</th>\n",
       "      <th>original_publication_date</th>\n",
       "      <th>corpus_edition_date</th>\n",
       "      <th>sentence_length</th>\n",
       "      <th>sentence_lowered</th>\n",
       "      <th>tokenized_txt</th>\n",
       "      <th>lemmatized_str</th>\n",
       "    </tr>\n",
       "  </thead>\n",
       "  <tbody>\n",
       "    <tr>\n",
       "      <th>156854</th>\n",
       "      <td>Lewis - Papers</td>\n",
       "      <td>Lewis</td>\n",
       "      <td>analytic</td>\n",
       "      <td>But there is no second event that is essentially a having of the existe...</td>\n",
       "      <td>But there is no second event that is essentially a having of the existe...</td>\n",
       "      <td>1985</td>\n",
       "      <td>2008</td>\n",
       "      <td>147</td>\n",
       "      <td>but there is no second event that is essentially a having of the existe...</td>\n",
       "      <td>['but', 'there', 'is', 'no', 'second', 'event', 'that', 'is', 'essentia...</td>\n",
       "      <td>but there be no second event that be essentially a having of the exist...</td>\n",
       "    </tr>\n",
       "    <tr>\n",
       "      <th>324545</th>\n",
       "      <td>A General Theory Of Employment, Interest, And Money</td>\n",
       "      <td>Keynes</td>\n",
       "      <td>capitalism</td>\n",
       "      <td>At the cost of anticipating what is more properly the subject of chapte...</td>\n",
       "      <td>At the cost of anticipating what is more properly the subject of chapte...</td>\n",
       "      <td>1936</td>\n",
       "      <td>2003</td>\n",
       "      <td>197</td>\n",
       "      <td>at the cost of anticipating what is more properly the subject of chapte...</td>\n",
       "      <td>['at', 'the', 'cost', 'of', 'anticipating', 'what', 'is', 'more', 'prop...</td>\n",
       "      <td>at the cost of anticipate what be more properly the subject of chapter...</td>\n",
       "    </tr>\n",
       "    <tr>\n",
       "      <th>285056</th>\n",
       "      <td>Elements Of The Philosophy Of Right</td>\n",
       "      <td>Hegel</td>\n",
       "      <td>german_idealism</td>\n",
       "      <td>The ethical world, on the other hand, the state, or reason as it actual...</td>\n",
       "      <td>The ethical world, on the other hand, the state, or reason as it actual...</td>\n",
       "      <td>1820</td>\n",
       "      <td>1991</td>\n",
       "      <td>125</td>\n",
       "      <td>the ethical world, on the other hand, the state, or reason as it actual...</td>\n",
       "      <td>['the', 'ethical', 'world', 'on', 'the', 'other', 'hand', 'the', 'state...</td>\n",
       "      <td>the ethical world , on the other hand , the state , or reason as -PRON...</td>\n",
       "    </tr>\n",
       "    <tr>\n",
       "      <th>65522</th>\n",
       "      <td>Aristotle - Complete Works</td>\n",
       "      <td>Aristotle</td>\n",
       "      <td>aristotle</td>\n",
       "      <td>And every animal has soul, but a plant is imperfect, and, whereas an an...</td>\n",
       "      <td>And every animal has soul, but a plant is imperfect, and, whereas an an...</td>\n",
       "      <td>-320</td>\n",
       "      <td>1991</td>\n",
       "      <td>218</td>\n",
       "      <td>and every animal has soul, but a plant is imperfect, and, whereas an an...</td>\n",
       "      <td>['and', 'every', 'animal', 'has', 'soul', 'but', 'plant', 'is', 'imperf...</td>\n",
       "      <td>and every animal have soul , but a plant be imperfect , and , whereas ...</td>\n",
       "    </tr>\n",
       "    <tr>\n",
       "      <th>316933</th>\n",
       "      <td>The Wealth Of Nations</td>\n",
       "      <td>Smith</td>\n",
       "      <td>capitalism</td>\n",
       "      <td>It was now reduced and confined to the original purpose of its institut...</td>\n",
       "      <td>It was now reduced and confined to the original purpose of its institut...</td>\n",
       "      <td>1776</td>\n",
       "      <td>2009</td>\n",
       "      <td>75</td>\n",
       "      <td>it was now reduced and confined to the original purpose of its institut...</td>\n",
       "      <td>['it', 'was', 'now', 'reduced', 'and', 'confined', 'to', 'the', 'origin...</td>\n",
       "      <td>-PRON- be now reduce and confine to the original purpose of -PRON- ins...</td>\n",
       "    </tr>\n",
       "  </tbody>\n",
       "</table>\n",
       "</div>"
      ],
      "text/plain": [
       "                                                      title     author  \\\n",
       "156854                                       Lewis - Papers      Lewis   \n",
       "324545  A General Theory Of Employment, Interest, And Money     Keynes   \n",
       "285056                  Elements Of The Philosophy Of Right      Hegel   \n",
       "65522                            Aristotle - Complete Works  Aristotle   \n",
       "316933                                The Wealth Of Nations      Smith   \n",
       "\n",
       "                 school  \\\n",
       "156854         analytic   \n",
       "324545       capitalism   \n",
       "285056  german_idealism   \n",
       "65522         aristotle   \n",
       "316933       capitalism   \n",
       "\n",
       "                                                                    sentence_spacy  \\\n",
       "156854  But there is no second event that is essentially a having of the existe...   \n",
       "324545  At the cost of anticipating what is more properly the subject of chapte...   \n",
       "285056  The ethical world, on the other hand, the state, or reason as it actual...   \n",
       "65522   And every animal has soul, but a plant is imperfect, and, whereas an an...   \n",
       "316933  It was now reduced and confined to the original purpose of its institut...   \n",
       "\n",
       "                                                                      sentence_str  \\\n",
       "156854  But there is no second event that is essentially a having of the existe...   \n",
       "324545  At the cost of anticipating what is more properly the subject of chapte...   \n",
       "285056  The ethical world, on the other hand, the state, or reason as it actual...   \n",
       "65522   And every animal has soul, but a plant is imperfect, and, whereas an an...   \n",
       "316933  It was now reduced and confined to the original purpose of its institut...   \n",
       "\n",
       "        original_publication_date  corpus_edition_date  sentence_length  \\\n",
       "156854                       1985                 2008              147   \n",
       "324545                       1936                 2003              197   \n",
       "285056                       1820                 1991              125   \n",
       "65522                        -320                 1991              218   \n",
       "316933                       1776                 2009               75   \n",
       "\n",
       "                                                                  sentence_lowered  \\\n",
       "156854  but there is no second event that is essentially a having of the existe...   \n",
       "324545  at the cost of anticipating what is more properly the subject of chapte...   \n",
       "285056  the ethical world, on the other hand, the state, or reason as it actual...   \n",
       "65522   and every animal has soul, but a plant is imperfect, and, whereas an an...   \n",
       "316933  it was now reduced and confined to the original purpose of its institut...   \n",
       "\n",
       "                                                                     tokenized_txt  \\\n",
       "156854  ['but', 'there', 'is', 'no', 'second', 'event', 'that', 'is', 'essentia...   \n",
       "324545  ['at', 'the', 'cost', 'of', 'anticipating', 'what', 'is', 'more', 'prop...   \n",
       "285056  ['the', 'ethical', 'world', 'on', 'the', 'other', 'hand', 'the', 'state...   \n",
       "65522   ['and', 'every', 'animal', 'has', 'soul', 'but', 'plant', 'is', 'imperf...   \n",
       "316933  ['it', 'was', 'now', 'reduced', 'and', 'confined', 'to', 'the', 'origin...   \n",
       "\n",
       "                                                                    lemmatized_str  \n",
       "156854   but there be no second event that be essentially a having of the exist...  \n",
       "324545   at the cost of anticipate what be more properly the subject of chapter...  \n",
       "285056   the ethical world , on the other hand , the state , or reason as -PRON...  \n",
       "65522    and every animal have soul , but a plant be imperfect , and , whereas ...  \n",
       "316933   -PRON- be now reduce and confine to the original purpose of -PRON- ins...  "
      ]
     },
     "execution_count": 6,
     "metadata": {},
     "output_type": "execute_result"
    }
   ],
   "source": [
    "pd.options.display.max_colwidth = 75\n",
    "phi_data.sample(5)"
   ]
  },
  {
   "cell_type": "markdown",
   "id": "3905f8d9",
   "metadata": {},
   "source": [
    "# Preliminary Data Exploration\n",
    "\n",
    "To explain and prepare for potential issues to come for this data analysis, we first explore the data and display information which is relevant to future analysis."
   ]
  },
  {
   "cell_type": "markdown",
   "id": "65c0082e",
   "metadata": {},
   "source": [
    "To analyze these philosophical texts, it would help to get a clear picture in how many sentences from each school we have to work with. This way, it will be easier to determine whether we have enough data can come to any conclusions about specific schools relative to other schools."
   ]
  },
  {
   "cell_type": "code",
   "execution_count": 14,
   "id": "f2602b02",
   "metadata": {
    "scrolled": false
   },
   "outputs": [
    {
     "data": {
      "text/plain": [
       "analytic           55425\n",
       "aristotle          48779\n",
       "german_idealism    42136\n",
       "plato              38366\n",
       "continental        33779\n",
       "phenomenology      28573\n",
       "rationalism        22949\n",
       "empiricism         19931\n",
       "feminism           18635\n",
       "capitalism         18194\n",
       "communism          17958\n",
       "nietzsche          13548\n",
       "stoicism            2535\n",
       "Name: school, dtype: int64"
      ]
     },
     "execution_count": 14,
     "metadata": {},
     "output_type": "execute_result"
    }
   ],
   "source": [
    "phi_data.loc[:,\"school\"].value_counts()"
   ]
  },
  {
   "cell_type": "markdown",
   "id": "878bdbb1",
   "metadata": {},
   "source": [
    "As we can see, each school has at least 10,000 sentences except for stoicism, which has 2,535. For the most part, there is a lot of data to work with for each school. However, we must take care when considering analysis for stoicism because of its relative lack of data."
   ]
  },
  {
   "cell_type": "code",
   "execution_count": 19,
   "id": "b2c13dd6",
   "metadata": {},
   "outputs": [
    {
     "name": "stdout",
     "output_type": "stream",
     "text": [
      "sentence_length                                                                       69\n",
      "sentence_str       Surely you are not prosecuting anyone before the king archon as I am?\n",
      "Name: 1, dtype: object\n"
     ]
    }
   ],
   "source": [
    "print(phi_data.loc[1,[\"sentence_length\",\"sentence_str\"]])"
   ]
  },
  {
   "cell_type": "markdown",
   "id": "c572aa8d",
   "metadata": {},
   "source": [
    "Possible questions:\n",
    "- common topics of interest for schools of thought\n",
    "- positive/negative expression and viewpoint of the world\n",
    "- which schools are similar to which/ which conflict the most\n",
    "- opinions shift over time\n",
    "- perspective on religion https://realpython.com/python-nltk-sentiment-analysis/"
   ]
  },
  {
   "cell_type": "markdown",
   "id": "baa40f5f",
   "metadata": {},
   "source": [
    "# Different schools' relationship with religion"
   ]
  },
  {
   "cell_type": "code",
   "execution_count": null,
   "id": "e4652e12",
   "metadata": {},
   "outputs": [],
   "source": []
  }
 ],
 "metadata": {
  "kernelspec": {
   "display_name": "Python 3 (ipykernel)",
   "language": "python",
   "name": "python3"
  },
  "language_info": {
   "codemirror_mode": {
    "name": "ipython",
    "version": 3
   },
   "file_extension": ".py",
   "mimetype": "text/x-python",
   "name": "python",
   "nbconvert_exporter": "python",
   "pygments_lexer": "ipython3",
   "version": "3.10.4"
  }
 },
 "nbformat": 4,
 "nbformat_minor": 5
}
